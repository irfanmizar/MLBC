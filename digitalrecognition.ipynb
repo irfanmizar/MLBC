{
  "nbformat": 4,
  "nbformat_minor": 0,
  "metadata": {
    "colab": {
      "provenance": [],
      "authorship_tag": "ABX9TyOndzg3mlROBTdPE+jUw3fE",
      "include_colab_link": true
    },
    "kernelspec": {
      "name": "python3",
      "display_name": "Python 3"
    },
    "language_info": {
      "name": "python"
    }
  },
  "cells": [
    {
      "cell_type": "markdown",
      "metadata": {
        "id": "view-in-github",
        "colab_type": "text"
      },
      "source": [
        "<a href=\"https://colab.research.google.com/github/irfanmizar/MLBC/blob/main/digitalrecognition.ipynb\" target=\"_parent\"><img src=\"https://colab.research.google.com/assets/colab-badge.svg\" alt=\"Open In Colab\"/></a>"
      ]
    },
    {
      "cell_type": "code",
      "execution_count": null,
      "metadata": {
        "id": "xTsgaj6N0P91"
      },
      "outputs": [],
      "source": [
        "from torchvision import datasets\n",
        "from torchvision.transforms import ToTensor"
      ]
    },
    {
      "cell_type": "code",
      "source": [
        "train_data = datasets.MNIST(\n",
        "    root = 'data',\n",
        "    train = True,\n",
        "    transform = ToTensor(),\n",
        "    download = True\n",
        ")\n",
        "\n",
        "test_data = datasets.MNIST(\n",
        "    root = 'data',\n",
        "    train = False,\n",
        "    transform = ToTensor(),\n",
        "    download = True\n",
        ")"
      ],
      "metadata": {
        "colab": {
          "base_uri": "https://localhost:8080/"
        },
        "id": "x-ioFO7N1Y2A",
        "outputId": "b840c716-dd71-4612-b172-3327e8c30280"
      },
      "execution_count": null,
      "outputs": [
        {
          "output_type": "stream",
          "name": "stdout",
          "text": [
            "Downloading http://yann.lecun.com/exdb/mnist/train-images-idx3-ubyte.gz\n",
            "Failed to download (trying next):\n",
            "<urlopen error [SSL: CERTIFICATE_VERIFY_FAILED] certificate verify failed: certificate has expired (_ssl.c:1007)>\n",
            "\n",
            "Downloading https://ossci-datasets.s3.amazonaws.com/mnist/train-images-idx3-ubyte.gz\n",
            "Downloading https://ossci-datasets.s3.amazonaws.com/mnist/train-images-idx3-ubyte.gz to data/MNIST/raw/train-images-idx3-ubyte.gz\n"
          ]
        },
        {
          "output_type": "stream",
          "name": "stderr",
          "text": [
            "100%|██████████| 9912422/9912422 [00:00<00:00, 32715837.22it/s]\n"
          ]
        },
        {
          "output_type": "stream",
          "name": "stdout",
          "text": [
            "Extracting data/MNIST/raw/train-images-idx3-ubyte.gz to data/MNIST/raw\n",
            "\n",
            "Downloading http://yann.lecun.com/exdb/mnist/train-labels-idx1-ubyte.gz\n",
            "Failed to download (trying next):\n",
            "<urlopen error [SSL: CERTIFICATE_VERIFY_FAILED] certificate verify failed: certificate has expired (_ssl.c:1007)>\n",
            "\n",
            "Downloading https://ossci-datasets.s3.amazonaws.com/mnist/train-labels-idx1-ubyte.gz\n",
            "Downloading https://ossci-datasets.s3.amazonaws.com/mnist/train-labels-idx1-ubyte.gz to data/MNIST/raw/train-labels-idx1-ubyte.gz\n"
          ]
        },
        {
          "output_type": "stream",
          "name": "stderr",
          "text": [
            "100%|██████████| 28881/28881 [00:00<00:00, 1319517.81it/s]"
          ]
        },
        {
          "output_type": "stream",
          "name": "stdout",
          "text": [
            "Extracting data/MNIST/raw/train-labels-idx1-ubyte.gz to data/MNIST/raw\n",
            "\n",
            "Downloading http://yann.lecun.com/exdb/mnist/t10k-images-idx3-ubyte.gz\n"
          ]
        },
        {
          "output_type": "stream",
          "name": "stderr",
          "text": [
            "\n"
          ]
        },
        {
          "output_type": "stream",
          "name": "stdout",
          "text": [
            "Failed to download (trying next):\n",
            "<urlopen error [SSL: CERTIFICATE_VERIFY_FAILED] certificate verify failed: certificate has expired (_ssl.c:1007)>\n",
            "\n",
            "Downloading https://ossci-datasets.s3.amazonaws.com/mnist/t10k-images-idx3-ubyte.gz\n",
            "Downloading https://ossci-datasets.s3.amazonaws.com/mnist/t10k-images-idx3-ubyte.gz to data/MNIST/raw/t10k-images-idx3-ubyte.gz\n"
          ]
        },
        {
          "output_type": "stream",
          "name": "stderr",
          "text": [
            "100%|██████████| 1648877/1648877 [00:00<00:00, 10734811.22it/s]\n"
          ]
        },
        {
          "output_type": "stream",
          "name": "stdout",
          "text": [
            "Extracting data/MNIST/raw/t10k-images-idx3-ubyte.gz to data/MNIST/raw\n",
            "\n",
            "Downloading http://yann.lecun.com/exdb/mnist/t10k-labels-idx1-ubyte.gz\n",
            "Failed to download (trying next):\n",
            "<urlopen error [SSL: CERTIFICATE_VERIFY_FAILED] certificate verify failed: certificate has expired (_ssl.c:1007)>\n",
            "\n",
            "Downloading https://ossci-datasets.s3.amazonaws.com/mnist/t10k-labels-idx1-ubyte.gz\n",
            "Downloading https://ossci-datasets.s3.amazonaws.com/mnist/t10k-labels-idx1-ubyte.gz to data/MNIST/raw/t10k-labels-idx1-ubyte.gz\n"
          ]
        },
        {
          "output_type": "stream",
          "name": "stderr",
          "text": [
            "100%|██████████| 4542/4542 [00:00<00:00, 2320970.85it/s]"
          ]
        },
        {
          "output_type": "stream",
          "name": "stdout",
          "text": [
            "Extracting data/MNIST/raw/t10k-labels-idx1-ubyte.gz to data/MNIST/raw\n",
            "\n"
          ]
        },
        {
          "output_type": "stream",
          "name": "stderr",
          "text": [
            "\n"
          ]
        }
      ]
    },
    {
      "cell_type": "code",
      "source": [
        "train_data"
      ],
      "metadata": {
        "colab": {
          "base_uri": "https://localhost:8080/"
        },
        "id": "zO8gnkfF1xoc",
        "outputId": "b2f9fed9-ae3a-45be-f2e2-680def5074fd"
      },
      "execution_count": null,
      "outputs": [
        {
          "output_type": "execute_result",
          "data": {
            "text/plain": [
              "Dataset MNIST\n",
              "    Number of datapoints: 60000\n",
              "    Root location: data\n",
              "    Split: Train\n",
              "    StandardTransform\n",
              "Transform: ToTensor()"
            ]
          },
          "metadata": {},
          "execution_count": 5
        }
      ]
    },
    {
      "cell_type": "code",
      "source": [
        "test_data"
      ],
      "metadata": {
        "colab": {
          "base_uri": "https://localhost:8080/"
        },
        "id": "GmGidF1W10ef",
        "outputId": "1ad1b34c-74bc-4301-b254-9e4094f565cd"
      },
      "execution_count": null,
      "outputs": [
        {
          "output_type": "execute_result",
          "data": {
            "text/plain": [
              "Dataset MNIST\n",
              "    Number of datapoints: 10000\n",
              "    Root location: data\n",
              "    Split: Test\n",
              "    StandardTransform\n",
              "Transform: ToTensor()"
            ]
          },
          "metadata": {},
          "execution_count": 6
        }
      ]
    },
    {
      "cell_type": "code",
      "source": [
        "train_data.data.shape"
      ],
      "metadata": {
        "colab": {
          "base_uri": "https://localhost:8080/"
        },
        "id": "3bhrdo7W124o",
        "outputId": "9403fb5e-db85-4154-f5dd-89e70cdef182"
      },
      "execution_count": null,
      "outputs": [
        {
          "output_type": "execute_result",
          "data": {
            "text/plain": [
              "torch.Size([60000, 28, 28])"
            ]
          },
          "metadata": {},
          "execution_count": 7
        }
      ]
    },
    {
      "cell_type": "code",
      "source": [
        "test_data.data.shape"
      ],
      "metadata": {
        "colab": {
          "base_uri": "https://localhost:8080/"
        },
        "id": "hO5IHWb8159Q",
        "outputId": "a563042e-20dd-4741-b8c2-7dfe51264bb4"
      },
      "execution_count": null,
      "outputs": [
        {
          "output_type": "execute_result",
          "data": {
            "text/plain": [
              "torch.Size([10000, 28, 28])"
            ]
          },
          "metadata": {},
          "execution_count": 8
        }
      ]
    },
    {
      "cell_type": "code",
      "source": [
        "train_data.targets.size()"
      ],
      "metadata": {
        "colab": {
          "base_uri": "https://localhost:8080/"
        },
        "id": "CBBXCtZ12IOQ",
        "outputId": "30902155-9332-417d-b794-16200ae4ab8c"
      },
      "execution_count": null,
      "outputs": [
        {
          "output_type": "execute_result",
          "data": {
            "text/plain": [
              "torch.Size([60000])"
            ]
          },
          "metadata": {},
          "execution_count": 9
        }
      ]
    },
    {
      "cell_type": "code",
      "source": [
        "train_data.targets"
      ],
      "metadata": {
        "colab": {
          "base_uri": "https://localhost:8080/"
        },
        "id": "fMRIJvhN2LIN",
        "outputId": "52a61398-f6e9-4a3a-eac6-18b8d533b249"
      },
      "execution_count": null,
      "outputs": [
        {
          "output_type": "execute_result",
          "data": {
            "text/plain": [
              "tensor([5, 0, 4,  ..., 5, 6, 8])"
            ]
          },
          "metadata": {},
          "execution_count": 10
        }
      ]
    },
    {
      "cell_type": "code",
      "source": [
        "from torch.utils.data import DataLoader\n",
        "\n",
        "loaders = {\n",
        "    'train': DataLoader(train_data,\n",
        "                        batch_size = 100,\n",
        "                        shuffle = True,\n",
        "                        num_workers = 1),\n",
        "\n",
        "    'test': DataLoader(test_data,\n",
        "                        batch_size = 100,\n",
        "                        shuffle = True,\n",
        "                        num_workers = 1)\n",
        "}"
      ],
      "metadata": {
        "id": "bajTau-u2OEA"
      },
      "execution_count": null,
      "outputs": []
    },
    {
      "cell_type": "code",
      "source": [
        "loaders"
      ],
      "metadata": {
        "colab": {
          "base_uri": "https://localhost:8080/"
        },
        "id": "ey9TkKDa230a",
        "outputId": "bcc54ad6-6c4b-47d2-e615-ee1fcddb431d"
      },
      "execution_count": null,
      "outputs": [
        {
          "output_type": "execute_result",
          "data": {
            "text/plain": [
              "{'train': <torch.utils.data.dataloader.DataLoader at 0x780c8c25abf0>,\n",
              " 'test': <torch.utils.data.dataloader.DataLoader at 0x780c8c25a9b0>}"
            ]
          },
          "metadata": {},
          "execution_count": 12
        }
      ]
    },
    {
      "cell_type": "code",
      "source": [
        "import torch.nn as nn\n",
        "import torch.nn.functional as F\n",
        "import torch.optim as optim\n",
        "\n",
        "class CNN(nn.Module):\n",
        "\n",
        "  def __init__(self):\n",
        "    super(CNN, self).__init__()\n",
        "\n",
        "    self.conv1 = nn.Conv2d(1, 10, kernel_size = 5)\n",
        "    self.conv2 = nn.Conv2d(10, 20, kernel_size = 5)\n",
        "    self.conv2_drop = nn.Dropout2d()\n",
        "    self.fc1 = nn.Linear(320, 50)\n",
        "    self.fc2 = nn.Linear(50, 10)\n",
        "\n",
        "  def forward(self, x):\n",
        "    x = F.relu(F.max_pool2d(self.conv1(x), 2))\n",
        "    x = F.relu(F.max_pool2d(self.conv2_drop(self.conv2(x)), 2))\n",
        "    x = x.view(-1, 320)\n",
        "    x = F.relu(self.fc1(x))\n",
        "    x = F.dropout(x, training = self.training)\n",
        "    x = self.fc2(x)\n",
        "\n",
        "    return F.softmax(x)"
      ],
      "metadata": {
        "id": "TVTUqu-h25qk"
      },
      "execution_count": null,
      "outputs": []
    },
    {
      "cell_type": "code",
      "source": [
        "import torch\n",
        "\n",
        "device = torch.device('cuda' if torch.cuda.is_available() else 'cpu')\n",
        "\n",
        "model = CNN().to(device)\n",
        "\n",
        "optimizer = optim.Adam(model.parameters(), lr=0.001)\n",
        "\n",
        "loss_fn = nn.CrossEntropyLoss()\n",
        "\n",
        "def train(epoch):\n",
        "  model.train()\n",
        "  for batch_idx, (data, target) in enumerate(loaders['train']):\n",
        "    data, target = data.to(device), target.to(device)\n",
        "    optimizer.zero_grad()\n",
        "    output = model(data)\n",
        "    loss = loss_fn(output, target)\n",
        "    loss.backward()\n",
        "    optimizer.step()\n",
        "    if batch_idx % 20 == 0:\n",
        "      print(f'Train Epoch: {epoch} [{batch_idx * len(data)}/{len(loaders[\"train\"].dataset)} ({100. * batch_idx / len(loaders[\"train\"]):.0f}%)]\\t{loss.item():.6f}')\n",
        "\n",
        "def test():\n",
        "  model.eval()\n",
        "\n",
        "  test_loss = 0\n",
        "  correct = 0\n",
        "\n",
        "  with torch.no_grad():\n",
        "    for data, target in loaders['test']:\n",
        "      data, target = data.to(device), target.to(device)\n",
        "      output = model(data)\n",
        "      test_loss += loss_fn(output, target).item()\n",
        "      pred = output.argmax(dim=1, keepdim=True)\n",
        "      correct += pred.eq(target.view_as(pred)).sum().item()\n",
        "\n",
        "  test_loss /= len(loaders['test'].dataset)\n",
        "  print(f'\\nTest set: Average loss: {test_loss:.4f}, Accuracy {correct}/{len(loaders[\"test\"].dataset)} ({100. * correct / len(loaders[\"test\"].dataset):.0f}%\\n)')"
      ],
      "metadata": {
        "id": "GBAXNttV4gWV"
      },
      "execution_count": null,
      "outputs": []
    },
    {
      "cell_type": "code",
      "source": [
        "for epoch in range(1, 11):\n",
        "  train(epoch)\n",
        "  test()"
      ],
      "metadata": {
        "colab": {
          "base_uri": "https://localhost:8080/"
        },
        "id": "5a3zphf09eMc",
        "outputId": "c2dc5c89-a41a-4be6-efd7-eba4f788cef5"
      },
      "execution_count": null,
      "outputs": [
        {
          "output_type": "stream",
          "name": "stderr",
          "text": [
            "<ipython-input-13-ec14584457c0>:24: UserWarning: Implicit dimension choice for softmax has been deprecated. Change the call to include dim=X as an argument.\n",
            "  return F.softmax(x)\n"
          ]
        },
        {
          "output_type": "stream",
          "name": "stdout",
          "text": [
            "Train Epoch: 1 [0/60000 (0%)]\t2.302734\n",
            "Train Epoch: 1 [2000/60000 (3%)]\t2.293744\n",
            "Train Epoch: 1 [4000/60000 (7%)]\t2.226394\n",
            "Train Epoch: 1 [6000/60000 (10%)]\t2.004699\n",
            "Train Epoch: 1 [8000/60000 (13%)]\t1.856973\n",
            "Train Epoch: 1 [10000/60000 (17%)]\t1.874458\n",
            "Train Epoch: 1 [12000/60000 (20%)]\t1.789732\n",
            "Train Epoch: 1 [14000/60000 (23%)]\t1.787804\n",
            "Train Epoch: 1 [16000/60000 (27%)]\t1.762527\n",
            "Train Epoch: 1 [18000/60000 (30%)]\t1.720672\n",
            "Train Epoch: 1 [20000/60000 (33%)]\t1.723247\n",
            "Train Epoch: 1 [22000/60000 (37%)]\t1.759456\n",
            "Train Epoch: 1 [24000/60000 (40%)]\t1.726598\n",
            "Train Epoch: 1 [26000/60000 (43%)]\t1.735229\n",
            "Train Epoch: 1 [28000/60000 (47%)]\t1.748588\n",
            "Train Epoch: 1 [30000/60000 (50%)]\t1.685904\n",
            "Train Epoch: 1 [32000/60000 (53%)]\t1.651120\n",
            "Train Epoch: 1 [34000/60000 (57%)]\t1.632408\n",
            "Train Epoch: 1 [36000/60000 (60%)]\t1.699764\n",
            "Train Epoch: 1 [38000/60000 (63%)]\t1.714306\n",
            "Train Epoch: 1 [40000/60000 (67%)]\t1.712661\n",
            "Train Epoch: 1 [42000/60000 (70%)]\t1.764039\n",
            "Train Epoch: 1 [44000/60000 (73%)]\t1.674841\n",
            "Train Epoch: 1 [46000/60000 (77%)]\t1.691075\n",
            "Train Epoch: 1 [48000/60000 (80%)]\t1.678351\n",
            "Train Epoch: 1 [50000/60000 (83%)]\t1.715341\n",
            "Train Epoch: 1 [52000/60000 (87%)]\t1.736714\n",
            "Train Epoch: 1 [54000/60000 (90%)]\t1.712812\n",
            "Train Epoch: 1 [56000/60000 (93%)]\t1.659105\n",
            "Train Epoch: 1 [58000/60000 (97%)]\t1.642157\n",
            "\n",
            "Test set: Average loss: 0.0161, Accuracy 8504/10000 (85%\n",
            ")\n",
            "Train Epoch: 2 [0/60000 (0%)]\t1.624953\n",
            "Train Epoch: 2 [2000/60000 (3%)]\t1.682948\n",
            "Train Epoch: 2 [4000/60000 (7%)]\t1.622947\n",
            "Train Epoch: 2 [6000/60000 (10%)]\t1.624923\n",
            "Train Epoch: 2 [8000/60000 (13%)]\t1.642531\n",
            "Train Epoch: 2 [10000/60000 (17%)]\t1.640761\n",
            "Train Epoch: 2 [12000/60000 (20%)]\t1.599465\n",
            "Train Epoch: 2 [14000/60000 (23%)]\t1.594129\n",
            "Train Epoch: 2 [16000/60000 (27%)]\t1.594786\n",
            "Train Epoch: 2 [18000/60000 (30%)]\t1.627698\n",
            "Train Epoch: 2 [20000/60000 (33%)]\t1.582138\n",
            "Train Epoch: 2 [22000/60000 (37%)]\t1.557692\n",
            "Train Epoch: 2 [24000/60000 (40%)]\t1.594802\n",
            "Train Epoch: 2 [26000/60000 (43%)]\t1.598754\n",
            "Train Epoch: 2 [28000/60000 (47%)]\t1.591764\n",
            "Train Epoch: 2 [30000/60000 (50%)]\t1.652936\n",
            "Train Epoch: 2 [32000/60000 (53%)]\t1.602039\n",
            "Train Epoch: 2 [34000/60000 (57%)]\t1.586958\n",
            "Train Epoch: 2 [36000/60000 (60%)]\t1.595549\n",
            "Train Epoch: 2 [38000/60000 (63%)]\t1.589539\n",
            "Train Epoch: 2 [40000/60000 (67%)]\t1.615631\n",
            "Train Epoch: 2 [42000/60000 (70%)]\t1.556018\n",
            "Train Epoch: 2 [44000/60000 (73%)]\t1.629725\n",
            "Train Epoch: 2 [46000/60000 (77%)]\t1.615739\n",
            "Train Epoch: 2 [48000/60000 (80%)]\t1.574479\n",
            "Train Epoch: 2 [50000/60000 (83%)]\t1.639212\n",
            "Train Epoch: 2 [52000/60000 (87%)]\t1.647212\n",
            "Train Epoch: 2 [54000/60000 (90%)]\t1.592793\n",
            "Train Epoch: 2 [56000/60000 (93%)]\t1.641513\n",
            "Train Epoch: 2 [58000/60000 (97%)]\t1.589413\n",
            "\n",
            "Test set: Average loss: 0.0152, Accuracy 9386/10000 (94%\n",
            ")\n",
            "Train Epoch: 3 [0/60000 (0%)]\t1.598079\n",
            "Train Epoch: 3 [2000/60000 (3%)]\t1.599278\n",
            "Train Epoch: 3 [4000/60000 (7%)]\t1.576051\n",
            "Train Epoch: 3 [6000/60000 (10%)]\t1.616906\n",
            "Train Epoch: 3 [8000/60000 (13%)]\t1.565313\n",
            "Train Epoch: 3 [10000/60000 (17%)]\t1.575621\n",
            "Train Epoch: 3 [12000/60000 (20%)]\t1.592756\n",
            "Train Epoch: 3 [14000/60000 (23%)]\t1.641778\n",
            "Train Epoch: 3 [16000/60000 (27%)]\t1.580047\n",
            "Train Epoch: 3 [18000/60000 (30%)]\t1.587046\n",
            "Train Epoch: 3 [20000/60000 (33%)]\t1.586959\n",
            "Train Epoch: 3 [22000/60000 (37%)]\t1.626347\n",
            "Train Epoch: 3 [24000/60000 (40%)]\t1.537320\n",
            "Train Epoch: 3 [26000/60000 (43%)]\t1.562823\n",
            "Train Epoch: 3 [28000/60000 (47%)]\t1.592713\n",
            "Train Epoch: 3 [30000/60000 (50%)]\t1.595194\n",
            "Train Epoch: 3 [32000/60000 (53%)]\t1.624784\n",
            "Train Epoch: 3 [34000/60000 (57%)]\t1.614622\n",
            "Train Epoch: 3 [36000/60000 (60%)]\t1.531986\n",
            "Train Epoch: 3 [38000/60000 (63%)]\t1.611672\n",
            "Train Epoch: 3 [40000/60000 (67%)]\t1.602359\n",
            "Train Epoch: 3 [42000/60000 (70%)]\t1.567408\n",
            "Train Epoch: 3 [44000/60000 (73%)]\t1.563069\n",
            "Train Epoch: 3 [46000/60000 (77%)]\t1.564442\n",
            "Train Epoch: 3 [48000/60000 (80%)]\t1.594341\n",
            "Train Epoch: 3 [50000/60000 (83%)]\t1.555866\n",
            "Train Epoch: 3 [52000/60000 (87%)]\t1.597162\n",
            "Train Epoch: 3 [54000/60000 (90%)]\t1.578525\n",
            "Train Epoch: 3 [56000/60000 (93%)]\t1.557533\n",
            "Train Epoch: 3 [58000/60000 (97%)]\t1.547196\n",
            "\n",
            "Test set: Average loss: 0.0151, Accuracy 9500/10000 (95%\n",
            ")\n",
            "Train Epoch: 4 [0/60000 (0%)]\t1.591402\n",
            "Train Epoch: 4 [2000/60000 (3%)]\t1.526717\n",
            "Train Epoch: 4 [4000/60000 (7%)]\t1.584608\n",
            "Train Epoch: 4 [6000/60000 (10%)]\t1.558035\n",
            "Train Epoch: 4 [8000/60000 (13%)]\t1.548614\n",
            "Train Epoch: 4 [10000/60000 (17%)]\t1.590806\n",
            "Train Epoch: 4 [12000/60000 (20%)]\t1.582891\n",
            "Train Epoch: 4 [14000/60000 (23%)]\t1.550151\n",
            "Train Epoch: 4 [16000/60000 (27%)]\t1.559204\n",
            "Train Epoch: 4 [18000/60000 (30%)]\t1.612529\n",
            "Train Epoch: 4 [20000/60000 (33%)]\t1.578909\n",
            "Train Epoch: 4 [22000/60000 (37%)]\t1.574504\n",
            "Train Epoch: 4 [24000/60000 (40%)]\t1.546613\n",
            "Train Epoch: 4 [26000/60000 (43%)]\t1.598884\n",
            "Train Epoch: 4 [28000/60000 (47%)]\t1.574732\n",
            "Train Epoch: 4 [30000/60000 (50%)]\t1.626689\n",
            "Train Epoch: 4 [32000/60000 (53%)]\t1.544963\n",
            "Train Epoch: 4 [34000/60000 (57%)]\t1.589108\n",
            "Train Epoch: 4 [36000/60000 (60%)]\t1.535440\n",
            "Train Epoch: 4 [38000/60000 (63%)]\t1.565254\n",
            "Train Epoch: 4 [40000/60000 (67%)]\t1.560667\n",
            "Train Epoch: 4 [42000/60000 (70%)]\t1.539580\n",
            "Train Epoch: 4 [44000/60000 (73%)]\t1.583462\n",
            "Train Epoch: 4 [46000/60000 (77%)]\t1.590530\n",
            "Train Epoch: 4 [48000/60000 (80%)]\t1.557985\n",
            "Train Epoch: 4 [50000/60000 (83%)]\t1.591460\n",
            "Train Epoch: 4 [52000/60000 (87%)]\t1.544605\n",
            "Train Epoch: 4 [54000/60000 (90%)]\t1.485969\n",
            "Train Epoch: 4 [56000/60000 (93%)]\t1.542939\n",
            "Train Epoch: 4 [58000/60000 (97%)]\t1.553200\n",
            "\n",
            "Test set: Average loss: 0.0150, Accuracy 9581/10000 (96%\n",
            ")\n",
            "Train Epoch: 5 [0/60000 (0%)]\t1.611362\n",
            "Train Epoch: 5 [2000/60000 (3%)]\t1.533596\n",
            "Train Epoch: 5 [4000/60000 (7%)]\t1.534712\n",
            "Train Epoch: 5 [6000/60000 (10%)]\t1.571326\n",
            "Train Epoch: 5 [8000/60000 (13%)]\t1.558012\n",
            "Train Epoch: 5 [10000/60000 (17%)]\t1.543555\n",
            "Train Epoch: 5 [12000/60000 (20%)]\t1.531682\n",
            "Train Epoch: 5 [14000/60000 (23%)]\t1.570184\n",
            "Train Epoch: 5 [16000/60000 (27%)]\t1.542497\n",
            "Train Epoch: 5 [18000/60000 (30%)]\t1.571401\n",
            "Train Epoch: 5 [20000/60000 (33%)]\t1.539302\n",
            "Train Epoch: 5 [22000/60000 (37%)]\t1.507840\n",
            "Train Epoch: 5 [24000/60000 (40%)]\t1.561954\n",
            "Train Epoch: 5 [26000/60000 (43%)]\t1.568215\n",
            "Train Epoch: 5 [28000/60000 (47%)]\t1.554866\n",
            "Train Epoch: 5 [30000/60000 (50%)]\t1.597157\n",
            "Train Epoch: 5 [32000/60000 (53%)]\t1.557061\n",
            "Train Epoch: 5 [34000/60000 (57%)]\t1.546767\n",
            "Train Epoch: 5 [36000/60000 (60%)]\t1.540735\n",
            "Train Epoch: 5 [38000/60000 (63%)]\t1.562966\n",
            "Train Epoch: 5 [40000/60000 (67%)]\t1.559532\n",
            "Train Epoch: 5 [42000/60000 (70%)]\t1.556636\n",
            "Train Epoch: 5 [44000/60000 (73%)]\t1.595965\n",
            "Train Epoch: 5 [46000/60000 (77%)]\t1.520300\n",
            "Train Epoch: 5 [48000/60000 (80%)]\t1.530431\n",
            "Train Epoch: 5 [50000/60000 (83%)]\t1.558260\n",
            "Train Epoch: 5 [52000/60000 (87%)]\t1.535480\n",
            "Train Epoch: 5 [54000/60000 (90%)]\t1.552813\n",
            "Train Epoch: 5 [56000/60000 (93%)]\t1.600749\n",
            "Train Epoch: 5 [58000/60000 (97%)]\t1.546723\n",
            "\n",
            "Test set: Average loss: 0.0150, Accuracy 9600/10000 (96%\n",
            ")\n",
            "Train Epoch: 6 [0/60000 (0%)]\t1.575017\n",
            "Train Epoch: 6 [2000/60000 (3%)]\t1.541453\n",
            "Train Epoch: 6 [4000/60000 (7%)]\t1.632074\n",
            "Train Epoch: 6 [6000/60000 (10%)]\t1.602436\n",
            "Train Epoch: 6 [8000/60000 (13%)]\t1.589904\n",
            "Train Epoch: 6 [10000/60000 (17%)]\t1.541323\n",
            "Train Epoch: 6 [12000/60000 (20%)]\t1.506211\n",
            "Train Epoch: 6 [14000/60000 (23%)]\t1.544673\n",
            "Train Epoch: 6 [16000/60000 (27%)]\t1.534606\n",
            "Train Epoch: 6 [18000/60000 (30%)]\t1.566115\n",
            "Train Epoch: 6 [20000/60000 (33%)]\t1.504479\n",
            "Train Epoch: 6 [22000/60000 (37%)]\t1.564160\n",
            "Train Epoch: 6 [24000/60000 (40%)]\t1.544818\n",
            "Train Epoch: 6 [26000/60000 (43%)]\t1.551139\n",
            "Train Epoch: 6 [28000/60000 (47%)]\t1.526913\n",
            "Train Epoch: 6 [30000/60000 (50%)]\t1.534974\n",
            "Train Epoch: 6 [32000/60000 (53%)]\t1.508281\n",
            "Train Epoch: 6 [34000/60000 (57%)]\t1.540230\n",
            "Train Epoch: 6 [36000/60000 (60%)]\t1.553628\n",
            "Train Epoch: 6 [38000/60000 (63%)]\t1.532971\n",
            "Train Epoch: 6 [40000/60000 (67%)]\t1.560809\n",
            "Train Epoch: 6 [42000/60000 (70%)]\t1.539662\n",
            "Train Epoch: 6 [44000/60000 (73%)]\t1.503098\n",
            "Train Epoch: 6 [46000/60000 (77%)]\t1.521888\n",
            "Train Epoch: 6 [48000/60000 (80%)]\t1.507335\n",
            "Train Epoch: 6 [50000/60000 (83%)]\t1.541467\n",
            "Train Epoch: 6 [52000/60000 (87%)]\t1.561235\n",
            "Train Epoch: 6 [54000/60000 (90%)]\t1.535775\n",
            "Train Epoch: 6 [56000/60000 (93%)]\t1.552965\n",
            "Train Epoch: 6 [58000/60000 (97%)]\t1.546990\n",
            "\n",
            "Test set: Average loss: 0.0150, Accuracy 9632/10000 (96%\n",
            ")\n",
            "Train Epoch: 7 [0/60000 (0%)]\t1.541521\n",
            "Train Epoch: 7 [2000/60000 (3%)]\t1.574399\n",
            "Train Epoch: 7 [4000/60000 (7%)]\t1.550510\n",
            "Train Epoch: 7 [6000/60000 (10%)]\t1.535175\n",
            "Train Epoch: 7 [8000/60000 (13%)]\t1.581662\n",
            "Train Epoch: 7 [10000/60000 (17%)]\t1.578956\n",
            "Train Epoch: 7 [12000/60000 (20%)]\t1.534203\n",
            "Train Epoch: 7 [14000/60000 (23%)]\t1.633058\n",
            "Train Epoch: 7 [16000/60000 (27%)]\t1.554419\n",
            "Train Epoch: 7 [18000/60000 (30%)]\t1.486741\n",
            "Train Epoch: 7 [20000/60000 (33%)]\t1.577454\n",
            "Train Epoch: 7 [22000/60000 (37%)]\t1.552183\n",
            "Train Epoch: 7 [24000/60000 (40%)]\t1.511515\n",
            "Train Epoch: 7 [26000/60000 (43%)]\t1.561787\n",
            "Train Epoch: 7 [28000/60000 (47%)]\t1.556164\n",
            "Train Epoch: 7 [30000/60000 (50%)]\t1.508687\n",
            "Train Epoch: 7 [32000/60000 (53%)]\t1.511069\n",
            "Train Epoch: 7 [34000/60000 (57%)]\t1.537047\n",
            "Train Epoch: 7 [36000/60000 (60%)]\t1.526259\n",
            "Train Epoch: 7 [38000/60000 (63%)]\t1.539992\n",
            "Train Epoch: 7 [40000/60000 (67%)]\t1.544362\n",
            "Train Epoch: 7 [42000/60000 (70%)]\t1.537976\n",
            "Train Epoch: 7 [44000/60000 (73%)]\t1.513044\n",
            "Train Epoch: 7 [46000/60000 (77%)]\t1.515132\n",
            "Train Epoch: 7 [48000/60000 (80%)]\t1.531224\n",
            "Train Epoch: 7 [50000/60000 (83%)]\t1.568937\n",
            "Train Epoch: 7 [52000/60000 (87%)]\t1.562139\n",
            "Train Epoch: 7 [54000/60000 (90%)]\t1.498705\n",
            "Train Epoch: 7 [56000/60000 (93%)]\t1.554445\n",
            "Train Epoch: 7 [58000/60000 (97%)]\t1.538641\n",
            "\n",
            "Test set: Average loss: 0.0150, Accuracy 9664/10000 (97%\n",
            ")\n",
            "Train Epoch: 8 [0/60000 (0%)]\t1.512930\n",
            "Train Epoch: 8 [2000/60000 (3%)]\t1.519356\n",
            "Train Epoch: 8 [4000/60000 (7%)]\t1.535215\n",
            "Train Epoch: 8 [6000/60000 (10%)]\t1.525661\n",
            "Train Epoch: 8 [8000/60000 (13%)]\t1.532010\n",
            "Train Epoch: 8 [10000/60000 (17%)]\t1.484112\n",
            "Train Epoch: 8 [12000/60000 (20%)]\t1.504061\n",
            "Train Epoch: 8 [14000/60000 (23%)]\t1.530198\n",
            "Train Epoch: 8 [16000/60000 (27%)]\t1.512147\n",
            "Train Epoch: 8 [18000/60000 (30%)]\t1.587393\n",
            "Train Epoch: 8 [20000/60000 (33%)]\t1.545242\n",
            "Train Epoch: 8 [22000/60000 (37%)]\t1.512103\n",
            "Train Epoch: 8 [24000/60000 (40%)]\t1.531915\n",
            "Train Epoch: 8 [26000/60000 (43%)]\t1.600756\n",
            "Train Epoch: 8 [28000/60000 (47%)]\t1.549601\n",
            "Train Epoch: 8 [30000/60000 (50%)]\t1.502255\n",
            "Train Epoch: 8 [32000/60000 (53%)]\t1.568646\n",
            "Train Epoch: 8 [34000/60000 (57%)]\t1.546063\n",
            "Train Epoch: 8 [36000/60000 (60%)]\t1.569273\n",
            "Train Epoch: 8 [38000/60000 (63%)]\t1.525789\n",
            "Train Epoch: 8 [40000/60000 (67%)]\t1.548435\n",
            "Train Epoch: 8 [42000/60000 (70%)]\t1.589790\n",
            "Train Epoch: 8 [44000/60000 (73%)]\t1.499262\n",
            "Train Epoch: 8 [46000/60000 (77%)]\t1.606400\n",
            "Train Epoch: 8 [48000/60000 (80%)]\t1.538299\n",
            "Train Epoch: 8 [50000/60000 (83%)]\t1.539765\n",
            "Train Epoch: 8 [52000/60000 (87%)]\t1.520222\n",
            "Train Epoch: 8 [54000/60000 (90%)]\t1.539887\n",
            "Train Epoch: 8 [56000/60000 (93%)]\t1.566425\n",
            "Train Epoch: 8 [58000/60000 (97%)]\t1.547509\n",
            "\n",
            "Test set: Average loss: 0.0149, Accuracy 9687/10000 (97%\n",
            ")\n",
            "Train Epoch: 9 [0/60000 (0%)]\t1.534065\n",
            "Train Epoch: 9 [2000/60000 (3%)]\t1.527095\n",
            "Train Epoch: 9 [4000/60000 (7%)]\t1.529652\n",
            "Train Epoch: 9 [6000/60000 (10%)]\t1.507252\n",
            "Train Epoch: 9 [8000/60000 (13%)]\t1.530222\n",
            "Train Epoch: 9 [10000/60000 (17%)]\t1.518796\n",
            "Train Epoch: 9 [12000/60000 (20%)]\t1.565649\n",
            "Train Epoch: 9 [14000/60000 (23%)]\t1.551217\n",
            "Train Epoch: 9 [16000/60000 (27%)]\t1.551695\n",
            "Train Epoch: 9 [18000/60000 (30%)]\t1.557890\n",
            "Train Epoch: 9 [20000/60000 (33%)]\t1.497951\n",
            "Train Epoch: 9 [22000/60000 (37%)]\t1.522105\n",
            "Train Epoch: 9 [24000/60000 (40%)]\t1.574750\n",
            "Train Epoch: 9 [26000/60000 (43%)]\t1.503016\n",
            "Train Epoch: 9 [28000/60000 (47%)]\t1.527765\n",
            "Train Epoch: 9 [30000/60000 (50%)]\t1.519388\n",
            "Train Epoch: 9 [32000/60000 (53%)]\t1.560895\n",
            "Train Epoch: 9 [34000/60000 (57%)]\t1.536632\n",
            "Train Epoch: 9 [36000/60000 (60%)]\t1.510117\n",
            "Train Epoch: 9 [38000/60000 (63%)]\t1.517538\n",
            "Train Epoch: 9 [40000/60000 (67%)]\t1.530183\n",
            "Train Epoch: 9 [42000/60000 (70%)]\t1.520887\n",
            "Train Epoch: 9 [44000/60000 (73%)]\t1.551559\n",
            "Train Epoch: 9 [46000/60000 (77%)]\t1.548728\n",
            "Train Epoch: 9 [48000/60000 (80%)]\t1.547139\n",
            "Train Epoch: 9 [50000/60000 (83%)]\t1.531917\n",
            "Train Epoch: 9 [52000/60000 (87%)]\t1.533654\n",
            "Train Epoch: 9 [54000/60000 (90%)]\t1.506013\n",
            "Train Epoch: 9 [56000/60000 (93%)]\t1.554406\n",
            "Train Epoch: 9 [58000/60000 (97%)]\t1.524799\n",
            "\n",
            "Test set: Average loss: 0.0149, Accuracy 9680/10000 (97%\n",
            ")\n",
            "Train Epoch: 10 [0/60000 (0%)]\t1.514854\n",
            "Train Epoch: 10 [2000/60000 (3%)]\t1.518533\n",
            "Train Epoch: 10 [4000/60000 (7%)]\t1.540071\n",
            "Train Epoch: 10 [6000/60000 (10%)]\t1.533760\n",
            "Train Epoch: 10 [8000/60000 (13%)]\t1.591023\n",
            "Train Epoch: 10 [10000/60000 (17%)]\t1.484896\n",
            "Train Epoch: 10 [12000/60000 (20%)]\t1.529013\n",
            "Train Epoch: 10 [14000/60000 (23%)]\t1.568331\n",
            "Train Epoch: 10 [16000/60000 (27%)]\t1.537382\n",
            "Train Epoch: 10 [18000/60000 (30%)]\t1.528539\n",
            "Train Epoch: 10 [20000/60000 (33%)]\t1.563872\n",
            "Train Epoch: 10 [22000/60000 (37%)]\t1.531399\n",
            "Train Epoch: 10 [24000/60000 (40%)]\t1.515619\n",
            "Train Epoch: 10 [26000/60000 (43%)]\t1.556414\n",
            "Train Epoch: 10 [28000/60000 (47%)]\t1.535203\n",
            "Train Epoch: 10 [30000/60000 (50%)]\t1.518842\n",
            "Train Epoch: 10 [32000/60000 (53%)]\t1.556388\n",
            "Train Epoch: 10 [34000/60000 (57%)]\t1.537499\n",
            "Train Epoch: 10 [36000/60000 (60%)]\t1.523094\n",
            "Train Epoch: 10 [38000/60000 (63%)]\t1.543837\n",
            "Train Epoch: 10 [40000/60000 (67%)]\t1.529088\n",
            "Train Epoch: 10 [42000/60000 (70%)]\t1.514217\n",
            "Train Epoch: 10 [44000/60000 (73%)]\t1.524383\n",
            "Train Epoch: 10 [46000/60000 (77%)]\t1.528858\n",
            "Train Epoch: 10 [48000/60000 (80%)]\t1.553166\n",
            "Train Epoch: 10 [50000/60000 (83%)]\t1.534196\n",
            "Train Epoch: 10 [52000/60000 (87%)]\t1.492440\n",
            "Train Epoch: 10 [54000/60000 (90%)]\t1.544706\n",
            "Train Epoch: 10 [56000/60000 (93%)]\t1.508305\n",
            "Train Epoch: 10 [58000/60000 (97%)]\t1.505413\n",
            "\n",
            "Test set: Average loss: 0.0149, Accuracy 9725/10000 (97%\n",
            ")\n"
          ]
        }
      ]
    },
    {
      "cell_type": "code",
      "source": [
        "import matplotlib.pyplot as plt\n",
        "\n",
        "model.eval()\n",
        "\n",
        "data, target = test_data[0]\n",
        "\n",
        "data = data.unsqueeze(0).to(device)\n",
        "\n",
        "output = model(data)\n",
        "\n",
        "prediction = output.argmax(dim=1, keepdim=True).item()\n",
        "\n",
        "print(f'Prediction: {prediction}')\n",
        "\n",
        "image = data.squeeze(0).squeeze(0).cpu().numpy()\n",
        "\n",
        "plt.imshow(image, cmap='gray')\n",
        "plt.show"
      ],
      "metadata": {
        "colab": {
          "base_uri": "https://localhost:8080/",
          "height": 653
        },
        "id": "o9hiQrQ2-3Da",
        "outputId": "bb9ef682-2817-48d0-8473-3b1017540604"
      },
      "execution_count": null,
      "outputs": [
        {
          "output_type": "stream",
          "name": "stdout",
          "text": [
            "Prediction: 7\n"
          ]
        },
        {
          "output_type": "stream",
          "name": "stderr",
          "text": [
            "<ipython-input-13-ec14584457c0>:24: UserWarning: Implicit dimension choice for softmax has been deprecated. Change the call to include dim=X as an argument.\n",
            "  return F.softmax(x)\n"
          ]
        },
        {
          "output_type": "execute_result",
          "data": {
            "text/plain": [
              "<function matplotlib.pyplot.show(close=None, block=None)>"
            ],
            "text/html": [
              "<div style=\"max-width:800px; border: 1px solid var(--colab-border-color);\"><style>\n",
              "      pre.function-repr-contents {\n",
              "        overflow-x: auto;\n",
              "        padding: 8px 12px;\n",
              "        max-height: 500px;\n",
              "      }\n",
              "\n",
              "      pre.function-repr-contents.function-repr-contents-collapsed {\n",
              "        cursor: pointer;\n",
              "        max-height: 100px;\n",
              "      }\n",
              "    </style>\n",
              "    <pre style=\"white-space: initial; background:\n",
              "         var(--colab-secondary-surface-color); padding: 8px 12px;\n",
              "         border-bottom: 1px solid var(--colab-border-color);\"><b>matplotlib.pyplot.show</b><br/>def show(*args, **kwargs)</pre><pre class=\"function-repr-contents function-repr-contents-collapsed\" style=\"\"><a class=\"filepath\" style=\"display:none\" href=\"#\">/usr/local/lib/python3.10/dist-packages/matplotlib/pyplot.py</a>Display all open figures.\n",
              "\n",
              "Parameters\n",
              "----------\n",
              "block : bool, optional\n",
              "    Whether to wait for all figures to be closed before returning.\n",
              "\n",
              "    If `True` block and run the GUI main loop until all figure windows\n",
              "    are closed.\n",
              "\n",
              "    If `False` ensure that all figure windows are displayed and return\n",
              "    immediately.  In this case, you are responsible for ensuring\n",
              "    that the event loop is running to have responsive figures.\n",
              "\n",
              "    Defaults to True in non-interactive mode and to False in interactive\n",
              "    mode (see `.pyplot.isinteractive`).\n",
              "\n",
              "See Also\n",
              "--------\n",
              "ion : Enable interactive mode, which shows / updates the figure after\n",
              "      every plotting command, so that calling ``show()`` is not necessary.\n",
              "ioff : Disable interactive mode.\n",
              "savefig : Save the figure to an image file instead of showing it on screen.\n",
              "\n",
              "Notes\n",
              "-----\n",
              "**Saving figures to file and showing a window at the same time**\n",
              "\n",
              "If you want an image file as well as a user interface window, use\n",
              "`.pyplot.savefig` before `.pyplot.show`. At the end of (a blocking)\n",
              "``show()`` the figure is closed and thus unregistered from pyplot. Calling\n",
              "`.pyplot.savefig` afterwards would save a new and thus empty figure. This\n",
              "limitation of command order does not apply if the show is non-blocking or\n",
              "if you keep a reference to the figure and use `.Figure.savefig`.\n",
              "\n",
              "**Auto-show in jupyter notebooks**\n",
              "\n",
              "The jupyter backends (activated via ``%matplotlib inline``,\n",
              "``%matplotlib notebook``, or ``%matplotlib widget``), call ``show()`` at\n",
              "the end of every cell by default. Thus, you usually don&#x27;t have to call it\n",
              "explicitly there.</pre>\n",
              "      <script>\n",
              "      if (google.colab.kernel.accessAllowed && google.colab.files && google.colab.files.view) {\n",
              "        for (const element of document.querySelectorAll('.filepath')) {\n",
              "          element.style.display = 'block'\n",
              "          element.onclick = (event) => {\n",
              "            event.preventDefault();\n",
              "            event.stopPropagation();\n",
              "            google.colab.files.view(element.textContent, 401);\n",
              "          };\n",
              "        }\n",
              "      }\n",
              "      for (const element of document.querySelectorAll('.function-repr-contents')) {\n",
              "        element.onclick = (event) => {\n",
              "          event.preventDefault();\n",
              "          event.stopPropagation();\n",
              "          element.classList.toggle('function-repr-contents-collapsed');\n",
              "        };\n",
              "      }\n",
              "      </script>\n",
              "      </div>"
            ]
          },
          "metadata": {},
          "execution_count": 20
        },
        {
          "output_type": "display_data",
          "data": {
            "text/plain": [
              "<Figure size 640x480 with 1 Axes>"
            ],
            "image/png": "[encoded data removed]"
          },
          "metadata": {}
        }
      ]
    }
  ]
}